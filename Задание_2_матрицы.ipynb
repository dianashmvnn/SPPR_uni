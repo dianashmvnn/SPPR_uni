{
  "nbformat": 4,
  "nbformat_minor": 0,
  "metadata": {
    "colab": {
      "provenance": []
    },
    "kernelspec": {
      "name": "python3",
      "display_name": "Python 3"
    },
    "language_info": {
      "name": "python"
    }
  },
  "cells": [
    {
      "cell_type": "markdown",
      "source": [
        "Опеределение нижней цены:"
      ],
      "metadata": {
        "id": "LZHNZBGyxM_o"
      }
    },
    {
      "cell_type": "code",
      "source": [
        "import numpy as np\n",
        "maxmin = np.array([[3,7,12,8,11],[1,5,1,5,11],[3,2,2,9,12],[10,8,1,3,7],[5,11,12,11,2]])\n",
        "lower_price = max([min(x) for x in maxmin])\n",
        "print(lower_price)"
      ],
      "metadata": {
        "colab": {
          "base_uri": "https://localhost:8080/"
        },
        "id": "lJWAImDLxOen",
        "outputId": "6260d520-0561-487f-b8c8-fd93fc3c4d9c"
      },
      "execution_count": 1,
      "outputs": [
        {
          "output_type": "stream",
          "name": "stdout",
          "text": [
            "3\n"
          ]
        }
      ]
    },
    {
      "cell_type": "markdown",
      "source": [
        "Опеределение верхней цены:"
      ],
      "metadata": {
        "id": "mCIlndoYxRlF"
      }
    },
    {
      "cell_type": "code",
      "source": [
        "upper_price = min([max(x) for x in np.rot90(maxmin)])\n",
        "print(upper_price)"
      ],
      "metadata": {
        "colab": {
          "base_uri": "https://localhost:8080/"
        },
        "id": "WJBzMn6vxSUK",
        "outputId": "50a7d7ee-0677-4f68-d855-aa08507173d3"
      },
      "execution_count": 2,
      "outputs": [
        {
          "output_type": "stream",
          "name": "stdout",
          "text": [
            "10\n"
          ]
        }
      ]
    },
    {
      "cell_type": "markdown",
      "source": [
        "В матричной игре всегда α≤ β\n",
        "\n",
        "Найти сеждловую точку:"
      ],
      "metadata": {
        "id": "IrxtN4jtxTpP"
      }
    },
    {
      "cell_type": "code",
      "source": [
        "maxmin = np.array([[3,7,12,8,11],[1,5,1,5,11],[3,2,2,9,12],[10,8,1,3,7],[5,11,12,11,2]])\n",
        "lower_price = max([min(x) for x in maxmin])\n",
        "upper_price = min([max(x) for x in np.rot90(maxmin)])\n",
        "print(upper_price, lower_price)"
      ],
      "metadata": {
        "colab": {
          "base_uri": "https://localhost:8080/"
        },
        "id": "JiKOYrAFxU9_",
        "outputId": "7d0bec6f-1a68-406f-d212-37b44f899ce1"
      },
      "execution_count": 3,
      "outputs": [
        {
          "output_type": "stream",
          "name": "stdout",
          "text": [
            "10 3\n"
          ]
        }
      ]
    },
    {
      "cell_type": "markdown",
      "source": [
        "Вывод. В игре нет седловой точки, поэтому первый игрок может гарантировать себе выигрыш не менее 3 единиц (нижняя цена игры) и может надеяться на выигрыш не более 10 единиц (верхняя цен игры.)\n",
        "\n",
        "Игра решается в смешанных стратегиях.\n",
        "\n",
        "Определить выигрыши игрока А в ситуации (P; Q), (P; B1), (P; B2), (P; B3)"
      ],
      "metadata": {
        "id": "0KDqOKpsxWu7"
      }
    },
    {
      "cell_type": "code",
      "source": [
        "matrix  = np.array([[3,7,12,8,11],[1,5,1,5,11],[3,2,2,9,12],[10,8,1,3,7],[5,11,12,11,2]])\n",
        "q=[0.43, 0.0, 0.05, 0.32, 0.2]\n",
        "p=[0.23, 0.0, 0.04, 0.44, 0.29]\n",
        "answer = {}\n",
        "\n",
        "lower_price = max([min(x) for x in matrix])\n",
        "upper_price = min([max(x) for x in np.rot90(matrix)])\n",
        "if lower_price==upper_price:print(\"седловая точка есть\", f\"ответ v={lower_price}\")\n",
        "else:\n",
        "  buff=0\n",
        "  for i,pin in zip(matrix,p):\n",
        "    buff+=pin*sum([x*y for x,y in zip(i,q)])\n",
        "  answer[\"H(P,Q)\"]=buff\n",
        "  for k, i  in enumerate(np.rot90(matrix),1):\n",
        "    answer[\"H(P,B{})\".format(k)]=sum([x*y for x,y in zip(i,p)])\n",
        "for i in [(x,y) for x,y in answer.items()]:\n",
        "  print(\"Ответ выйгрыш игрока А в ситуации {0[0]} = {0[1]}\".format(i))"
      ],
      "metadata": {
        "colab": {
          "base_uri": "https://localhost:8080/"
        },
        "id": "9p500i9xxYXs",
        "outputId": "5f0de3d9-3e88-434f-b46a-e0cbd2859e03"
      },
      "execution_count": 4,
      "outputs": [
        {
          "output_type": "stream",
          "name": "stdout",
          "text": [
            "Ответ выйгрыш игрока А в ситуации H(P,Q) = 6.683\n",
            "Ответ выйгрыш игрока А в ситуации H(P,B1) = 6.67\n",
            "Ответ выйгрыш игрока А в ситуации H(P,B2) = 6.710000000000001\n",
            "Ответ выйгрыш игрока А в ситуации H(P,B3) = 6.76\n",
            "Ответ выйгрыш игрока А в ситуации H(P,B4) = 8.4\n",
            "Ответ выйгрыш игрока А в ситуации H(P,B5) = 6.660000000000001\n"
          ]
        }
      ]
    },
    {
      "cell_type": "code",
      "source": [
        "answer"
      ],
      "metadata": {
        "colab": {
          "base_uri": "https://localhost:8080/"
        },
        "id": "9OjxsuXNxbie",
        "outputId": "ebf54328-4eea-4e67-f6fa-0220da7c3d99"
      },
      "execution_count": 6,
      "outputs": [
        {
          "output_type": "execute_result",
          "data": {
            "text/plain": [
              "{'H(P,Q)': np.float64(6.683),\n",
              " 'H(P,B1)': np.float64(6.67),\n",
              " 'H(P,B2)': np.float64(6.710000000000001),\n",
              " 'H(P,B3)': np.float64(6.76),\n",
              " 'H(P,B4)': np.float64(8.4),\n",
              " 'H(P,B5)': np.float64(6.660000000000001)}"
            ]
          },
          "metadata": {},
          "execution_count": 6
        }
      ]
    }
  ]
}